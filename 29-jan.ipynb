{
 "cells": [
  {
   "cell_type": "markdown",
   "id": "5a8f3ced-d786-46d1-9a02-dfec232007fe",
   "metadata": {},
   "source": [
    "1.Ans: Sun Guido-wan rossum creators of python in year 20-feb 1991.\n",
    "\n",
    "2.Ans:- python supports dynamically typed and it supports multiple programming paradigms,\n",
    "procedural,object-oriented and funtional programming.\n",
    "\n",
    "3.Ans: python is a case-sensitive.it means lower and uper case identifiers is two different variable.\n",
    "i.e.( a=4,A=10 different variable).\n",
    "\n",
    "4.Ans: (.py) is a python extension.\n",
    "\n",
    "5.Ans: python is both compiled as well as interpreted language.\n",
    "which means run python code first compiled and then inpreted line by line.\n",
    "\n",
    "6.Ans:- Function,body,module to define python programming.\n",
    "\n",
    "7.Ans:- In python use single comment by (#).\n",
    "\n",
    "8.Ans:- check python version go to terminal and enter(py) to show your version curently used.\n",
    "\n",
    "9.Ans:- __init__ called construct.\n",
    "\n",
    "10.Ans:- pip stands for \"pip install packages\") it also known as packge manager in python.\n",
    "\n",
    "11.Ans: Built-in function:\n",
    "        (a.) print() \n",
    "        (b.) type()\n",
    "        (c.) len()\n",
    "        (d.) list()\n",
    "        (e.) set()\n",
    "        (f.) dict()\n",
    "        (g.) append()\n",
    "        (h.) extend\n",
    "\n",
    "12.Ans:- Maximum length of identifiers is 79.\n",
    "\n",
    "13.Ans:- Many benefits of using python language.\n",
    "   (a.) Develop Any Game.\n",
    "   (b.) Develop Any web application.\n",
    "   (c.) And Most used Data-Science field .\n",
    "   (d.) Security and penetration testing.\n",
    "   (e.) Computer Graphics.\n",
    "14.Ans: In python memory manage dynamiclly.\n",
    "\n",
    "15.Ans:-  Python download and settup process.\n",
    "         (a.) Go www.python.org.com and download python \n",
    "              software based on your window.and set path \n",
    "              on drive.\n",
    "         (b.)Download any ide(like: jupyter,pycham,vs- \n",
    "            code,atom,etc)\n",
    "         (c.)Then able to write python code.\n",
    "\n",
    "16.Ans:- In python indentation is very important if indentation is missing your program is crash so write python code Attention for indentation.(manage four space)."
   ]
  }
 ],
 "metadata": {
  "kernelspec": {
   "display_name": "",
   "name": ""
  },
  "language_info": {
   "name": ""
  }
 },
 "nbformat": 4,
 "nbformat_minor": 5
}
